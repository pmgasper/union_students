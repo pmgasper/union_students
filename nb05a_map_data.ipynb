{
 "cells": [
  {
   "cell_type": "markdown",
   "metadata": {},
   "source": [
    "# Analysis of Student Data for Union College Math Majors"
   ]
  },
  {
   "cell_type": "markdown",
   "metadata": {},
   "source": [
    "## Part 5a - Geographic data\n",
    "\n",
    "* Converting student home town addresses to longitude and latitude for mapping in part 5b"
   ]
  },
  {
   "cell_type": "markdown",
   "metadata": {},
   "source": [
    "### Set up the notebook environment"
   ]
  },
  {
   "cell_type": "code",
   "execution_count": 1,
   "metadata": {},
   "outputs": [],
   "source": [
    "# Imports\n",
    "import geocoder as geo\n",
    "import pandas as pd\n",
    "import time"
   ]
  },
  {
   "cell_type": "code",
   "execution_count": 2,
   "metadata": {},
   "outputs": [],
   "source": [
    "# Settings\n",
    "pd.set_option('max_rows', 7)\n",
    "pd.set_option('max_columns', 50)"
   ]
  },
  {
   "cell_type": "markdown",
   "metadata": {},
   "source": [
    "### Geocoding "
   ]
  },
  {
   "cell_type": "code",
   "execution_count": 3,
   "metadata": {},
   "outputs": [],
   "source": [
    "# Load student info data from excel file\n",
    "info = pd.read_excel('data/union_students_818_cleaned.xlsx', \n",
    "                     sheet_name='info',\n",
    "                     usecols=[0, 13, 14]\n",
    "                    )\n",
    "\n",
    "# Format for geocoding\n",
    "#   Replace Na with empty strings\n",
    "info.fillna('', inplace=True) \n",
    "#   Exclude numbers from the end of home_city\n",
    "info['home_city'] = info['home_city'].str.replace('[0-9]+$', '')"
   ]
  },
  {
   "cell_type": "code",
   "execution_count": 4,
   "metadata": {
    "scrolled": true
   },
   "outputs": [],
   "source": [
    "# Load previously identified coordinates to avoid repeat requests\n",
    "try:\n",
    "    known = pd.read_csv('data/map_data.csv')\n",
    "except FileNotFoundError:\n",
    "    known = pd.DataFrame(columns=['id', 'lat', 'lng'])\n",
    "    \n",
    "info = info.merge(known, on='id', how='left')"
   ]
  },
  {
   "cell_type": "code",
   "execution_count": 5,
   "metadata": {},
   "outputs": [],
   "source": [
    "unknowns = info.loc[(info['lat'].isnull()) | (info['lng'].isnull())]"
   ]
  },
  {
   "cell_type": "code",
   "execution_count": 6,
   "metadata": {},
   "outputs": [],
   "source": [
    "# Get latitude and longitude for home city and state by student id\n",
    "def home_latlng(row):\n",
    "    ''' Returns latitude, longitude coordinates for data frame with columns\n",
    "        home_city and home_state '''\n",
    "    \n",
    "    time.sleep(0.1)\n",
    "    address = ' '.join([str(row.home_city), str(row.home_state)])\n",
    "    g = geo.osm(address)\n",
    "    row['lat'] = g.lat\n",
    "    row['lng'] = g.lng\n",
    "    return row\n",
    "    \n",
    "new_codes = (unknowns.apply(home_latlng, axis=1))\n",
    "info.update(new_codes)"
   ]
  },
  {
   "cell_type": "code",
   "execution_count": 7,
   "metadata": {},
   "outputs": [
    {
     "data": {
      "text/html": [
       "<div>\n",
       "<style scoped>\n",
       "    .dataframe tbody tr th:only-of-type {\n",
       "        vertical-align: middle;\n",
       "    }\n",
       "\n",
       "    .dataframe tbody tr th {\n",
       "        vertical-align: top;\n",
       "    }\n",
       "\n",
       "    .dataframe thead th {\n",
       "        text-align: right;\n",
       "    }\n",
       "</style>\n",
       "<table border=\"1\" class=\"dataframe\">\n",
       "  <thead>\n",
       "    <tr style=\"text-align: right;\">\n",
       "      <th></th>\n",
       "      <th>id</th>\n",
       "      <th>home_city</th>\n",
       "      <th>home_state</th>\n",
       "      <th>lat</th>\n",
       "      <th>lng</th>\n",
       "    </tr>\n",
       "  </thead>\n",
       "  <tbody>\n",
       "  </tbody>\n",
       "</table>\n",
       "</div>"
      ],
      "text/plain": [
       "Empty DataFrame\n",
       "Columns: [id, home_city, home_state, lat, lng]\n",
       "Index: []"
      ]
     },
     "execution_count": 7,
     "metadata": {},
     "output_type": "execute_result"
    }
   ],
   "source": [
    "# Check if any entries were not found\n",
    "info.loc[(info['lat'].isnull()) | (info['lng'].isnull())]\n"
   ]
  },
  {
   "cell_type": "code",
   "execution_count": 8,
   "metadata": {},
   "outputs": [],
   "source": [
    "# Save to csv file\n",
    "info[['id', 'lat', 'lng']].to_csv('data/map_data.csv', index=False)"
   ]
  }
 ],
 "metadata": {
  "kernelspec": {
   "display_name": "Python 3",
   "language": "python",
   "name": "python3"
  },
  "language_info": {
   "codemirror_mode": {
    "name": "ipython",
    "version": 3
   },
   "file_extension": ".py",
   "mimetype": "text/x-python",
   "name": "python",
   "nbconvert_exporter": "python",
   "pygments_lexer": "ipython3",
   "version": "3.6.3"
  },
  "varInspector": {
   "cols": {
    "lenName": 16,
    "lenType": 16,
    "lenVar": 40
   },
   "kernels_config": {
    "python": {
     "delete_cmd_postfix": "",
     "delete_cmd_prefix": "del ",
     "library": "var_list.py",
     "varRefreshCmd": "print(var_dic_list())"
    },
    "r": {
     "delete_cmd_postfix": ") ",
     "delete_cmd_prefix": "rm(",
     "library": "var_list.r",
     "varRefreshCmd": "cat(var_dic_list()) "
    }
   },
   "types_to_exclude": [
    "module",
    "function",
    "builtin_function_or_method",
    "instance",
    "_Feature"
   ],
   "window_display": false
  }
 },
 "nbformat": 4,
 "nbformat_minor": 2
}
