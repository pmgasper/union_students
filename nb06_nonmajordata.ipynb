{
 "cells": [
  {
   "cell_type": "markdown",
   "metadata": {},
   "source": [
    "# Analysis of Student Data for Union College Math Majors"
   ]
  },
  {
   "cell_type": "markdown",
   "metadata": {},
   "source": [
    "## Part 6 - Additional data on non-majors\n",
    "\n",
    "* Received additional data with grades in mathematics courses for all students who took MTH-199 between the 13-14 and 17-18 academic years.\n",
    "  + This includes the data for majors, analyzed in parts 1-5, and adds data for non-majors.\n",
    "* Cleaned new data\n",
    "  + Same formating as previous data (see part 2)\n",
    "  + De-identified ids will not match previous parts, but are internally consistent\n",
    "  \n",
    "WORKING ON  \n",
    "  \n",
    "* Explore\n",
    "  + counts\n",
    "  + check assumptions\n",
    "  + distributions\n",
    "  + ...\n",
    "  \n",
    "* Analysis\n",
    "  * Major vs. non-major in MTH-199\n",
    "  * How well does non-major GPA in MTH-199 predict upper level GPA\n",
    "    + as compared to major - same box plot adding hue?\n",
    "    \n",
    "  * ...\n",
    "  "
   ]
  },
  {
   "cell_type": "markdown",
   "metadata": {},
   "source": [
    "### Set up the notebook environment"
   ]
  },
  {
   "cell_type": "code",
   "execution_count": 19,
   "metadata": {},
   "outputs": [],
   "source": [
    "# Imports\n",
    "import matplotlib.pyplot as plt\n",
    "import numpy as np\n",
    "import pandas as pd\n",
    "import seaborn as sns\n",
    "import union_constants as uc"
   ]
  },
  {
   "cell_type": "code",
   "execution_count": 21,
   "metadata": {},
   "outputs": [],
   "source": [
    "# Settings\n",
    "%matplotlib inline\n",
    "plt.style.use('fivethirtyeight')\n",
    "plt.rcParams['figure.figsize'] = (6.0, 6.0)\n",
    "pd.set_option('max_rows', 7)\n",
    "pd.set_option('max_columns', 50)"
   ]
  },
  {
   "cell_type": "code",
   "execution_count": 2,
   "metadata": {},
   "outputs": [],
   "source": [
    "# File names\n",
    "major_data_fn = 'data/union_students_818.xlsx'\n",
    "major_cleaned_fn = 'data/union_students_818_cleaned.xlsx'\n",
    "all_grades_fn = 'data/MTH_199_GRADE_HISTORY.xlsx'"
   ]
  },
  {
   "cell_type": "markdown",
   "metadata": {},
   "source": [
    "### Load and clean the data"
   ]
  },
  {
   "cell_type": "code",
   "execution_count": 3,
   "metadata": {},
   "outputs": [],
   "source": [
    "# Load grades data\n",
    "grades = pd.read_excel(all_grades_fn, sheet_name='psa.grdcrshst')\n",
    "\n",
    "# Column name style preferences\n",
    "grades.columns = map(str.lower, grades.columns)\n",
    "\n",
    "# Load major info to figure out which IDs are for math majors\n",
    "major_info = pd.read_excel(major_data_fn, usecols='A', sheet_name='student info')\n",
    "major_ids = major_info['@ID'].unique()\n",
    "grades['major'] = grades['id'].isin(major_ids)"
   ]
  },
  {
   "cell_type": "code",
   "execution_count": 4,
   "metadata": {},
   "outputs": [
    {
     "name": "stdout",
     "output_type": "stream",
     "text": [
      "Data for math majors that only appears in one of the data sets:\n"
     ]
    },
    {
     "data": {
      "text/html": [
       "<div>\n",
       "<style scoped>\n",
       "    .dataframe tbody tr th:only-of-type {\n",
       "        vertical-align: middle;\n",
       "    }\n",
       "\n",
       "    .dataframe tbody tr th {\n",
       "        vertical-align: top;\n",
       "    }\n",
       "\n",
       "    .dataframe thead th {\n",
       "        text-align: right;\n",
       "    }\n",
       "</style>\n",
       "<table border=\"1\" class=\"dataframe\">\n",
       "  <thead>\n",
       "    <tr style=\"text-align: right;\">\n",
       "      <th></th>\n",
       "      <th>course</th>\n",
       "      <th>term</th>\n",
       "      <th>grade_old</th>\n",
       "      <th>grade_new</th>\n",
       "    </tr>\n",
       "  </thead>\n",
       "  <tbody>\n",
       "    <tr>\n",
       "      <th>778</th>\n",
       "      <td>MTH-219</td>\n",
       "      <td>15/FA</td>\n",
       "      <td>B</td>\n",
       "      <td>NaN</td>\n",
       "    </tr>\n",
       "    <tr>\n",
       "      <th>779</th>\n",
       "      <td>MTH-336</td>\n",
       "      <td>16/FA</td>\n",
       "      <td>C</td>\n",
       "      <td>NaN</td>\n",
       "    </tr>\n",
       "    <tr>\n",
       "      <th>780</th>\n",
       "      <td>MTH-487</td>\n",
       "      <td>16/FA</td>\n",
       "      <td>B+</td>\n",
       "      <td>NaN</td>\n",
       "    </tr>\n",
       "    <tr>\n",
       "      <th>781</th>\n",
       "      <td>MTH-332</td>\n",
       "      <td>16/SP</td>\n",
       "      <td>C</td>\n",
       "      <td>NaN</td>\n",
       "    </tr>\n",
       "    <tr>\n",
       "      <th>782</th>\n",
       "      <td>MTH-480</td>\n",
       "      <td>16/SP</td>\n",
       "      <td>C+</td>\n",
       "      <td>NaN</td>\n",
       "    </tr>\n",
       "    <tr>\n",
       "      <th>783</th>\n",
       "      <td>MTH-234</td>\n",
       "      <td>16/WI</td>\n",
       "      <td>B-</td>\n",
       "      <td>NaN</td>\n",
       "    </tr>\n",
       "    <tr>\n",
       "      <th>784</th>\n",
       "      <td>MTH-340</td>\n",
       "      <td>16/WI</td>\n",
       "      <td>B+</td>\n",
       "      <td>NaN</td>\n",
       "    </tr>\n",
       "    <tr>\n",
       "      <th>785</th>\n",
       "      <td>MTH-340</td>\n",
       "      <td>16/WI</td>\n",
       "      <td>B+</td>\n",
       "      <td>NaN</td>\n",
       "    </tr>\n",
       "  </tbody>\n",
       "</table>\n",
       "</div>"
      ],
      "text/plain": [
       "      course   term grade_old grade_new\n",
       "778  MTH-219  15/FA         B       NaN\n",
       "779  MTH-336  16/FA         C       NaN\n",
       "780  MTH-487  16/FA        B+       NaN\n",
       "781  MTH-332  16/SP         C       NaN\n",
       "782  MTH-480  16/SP        C+       NaN\n",
       "783  MTH-234  16/WI        B-       NaN\n",
       "784  MTH-340  16/WI        B+       NaN\n",
       "785  MTH-340  16/WI        B+       NaN"
      ]
     },
     "execution_count": 4,
     "metadata": {},
     "output_type": "execute_result"
    }
   ],
   "source": [
    "# Compare with previous data set \n",
    "# See that assumptions about data for majors being the same holds.\n",
    "# Actual ids used since the mapping was not stored. Hiden from final output.\n",
    "major_grades = pd.read_excel(major_data_fn, sheet_name='psa.grad.grades')\n",
    "major_grades.columns = map(str.lower, major_grades.columns)\n",
    "major_grades.drop(['name', 'acad major', 'faculty'], axis=1, inplace=True)\n",
    "\n",
    "merged_grades = (major_grades\n",
    " .merge(grades.loc[grades.major].drop('name', axis=1),\n",
    "        how='outer', on=['id', 'course', 'term'], suffixes=['_old', '_new'])\n",
    " .loc[:, ['id', 'course', 'term', 'grade_old', 'grade_new']])\n",
    "\n",
    "\n",
    "print('Data for math majors that only appears in one of the data sets:')\n",
    "\n",
    "merged_grades.loc[merged_grades.grade_old.isnull() | \n",
    "                  merged_grades.grade_new.isnull()].drop('id', axis=1)\n"
   ]
  },
  {
   "cell_type": "markdown",
   "metadata": {},
   "source": [
    "* The only missing data is for a single student who did not take MTH-199"
   ]
  },
  {
   "cell_type": "code",
   "execution_count": 5,
   "metadata": {},
   "outputs": [],
   "source": [
    "# De-identify ids\n",
    "#   Reassign student ids to unknown student-id pairings.\n",
    "#   These will be different from the pairings used in parts 2-5\n",
    "unique_ids = grades['id'].unique()\n",
    "np.random.shuffle(unique_ids)\n",
    "new_ids = {unique_id:idx + 1 for idx, unique_id in enumerate(unique_ids)}\n",
    "grades['id'] = grades.apply(lambda srs: new_ids[srs['id']], axis=1)\n",
    "\n",
    "# Drop names\n",
    "grades.drop(['name'], axis=1, inplace=True)\n",
    "\n",
    "# Sort\n",
    "grades.sort_values(['id', 'course'], inplace=True)"
   ]
  },
  {
   "cell_type": "code",
   "execution_count": 6,
   "metadata": {},
   "outputs": [
    {
     "name": "stdout",
     "output_type": "stream",
     "text": [
      "Any duplicate rows? False\n",
      "\n",
      "Dropped MTH-000:\n"
     ]
    },
    {
     "data": {
      "text/html": [
       "<div>\n",
       "<style scoped>\n",
       "    .dataframe tbody tr th:only-of-type {\n",
       "        vertical-align: middle;\n",
       "    }\n",
       "\n",
       "    .dataframe tbody tr th {\n",
       "        vertical-align: top;\n",
       "    }\n",
       "\n",
       "    .dataframe thead th {\n",
       "        text-align: right;\n",
       "    }\n",
       "</style>\n",
       "<table border=\"1\" class=\"dataframe\">\n",
       "  <thead>\n",
       "    <tr style=\"text-align: right;\">\n",
       "      <th></th>\n",
       "      <th>id</th>\n",
       "      <th>term</th>\n",
       "      <th>course</th>\n",
       "      <th>grade</th>\n",
       "      <th>major</th>\n",
       "    </tr>\n",
       "  </thead>\n",
       "  <tbody>\n",
       "    <tr>\n",
       "      <th>1847</th>\n",
       "      <td>129</td>\n",
       "      <td>16/SU</td>\n",
       "      <td>MTH-000</td>\n",
       "      <td>NC</td>\n",
       "      <td>True</td>\n",
       "    </tr>\n",
       "    <tr>\n",
       "      <th>2433</th>\n",
       "      <td>185</td>\n",
       "      <td>17/SU</td>\n",
       "      <td>MTH-000</td>\n",
       "      <td>NC</td>\n",
       "      <td>True</td>\n",
       "    </tr>\n",
       "    <tr>\n",
       "      <th>218</th>\n",
       "      <td>244</td>\n",
       "      <td>17/SU</td>\n",
       "      <td>MTH-000</td>\n",
       "      <td>NC</td>\n",
       "      <td>True</td>\n",
       "    </tr>\n",
       "  </tbody>\n",
       "</table>\n",
       "</div>"
      ],
      "text/plain": [
       "       id   term   course grade  major\n",
       "1847  129  16/SU  MTH-000    NC   True\n",
       "2433  185  17/SU  MTH-000    NC   True\n",
       "218   244  17/SU  MTH-000    NC   True"
      ]
     },
     "metadata": {},
     "output_type": "display_data"
    }
   ],
   "source": [
    "# # Check for duplicate rows\n",
    "print('Any duplicate rows? {0}'.format(grades.duplicated().any()))\n",
    "print()\n",
    "\n",
    "# Display and drop MTH-000 students\n",
    "print('Dropped MTH-000:')\n",
    "display(grades.loc[grades.course == 'MTH-000']) \n",
    "grades.drop(grades.loc[grades.course == 'MTH-000'].index, inplace=True)\n",
    "\n",
    "# Add year column and reassign term to season only\n",
    "grades['year'] = grades['term'].map(lambda srs: int('20' + srs.split('/')[0]))\n",
    "grades['term'] = grades['term'].map(lambda srs: srs.split('/')[1])\n",
    "\n",
    "# Derive grade point columns\n",
    "grades['point'] = grades['grade'].map(lambda grade: uc.grade_to_point[grade])"
   ]
  },
  {
   "cell_type": "markdown",
   "metadata": {},
   "source": [
    "### Descriptive statistics"
   ]
  },
  {
   "cell_type": "code",
   "execution_count": 131,
   "metadata": {},
   "outputs": [
    {
     "data": {
      "text/html": [
       "<div>\n",
       "<style scoped>\n",
       "    .dataframe tbody tr th:only-of-type {\n",
       "        vertical-align: middle;\n",
       "    }\n",
       "\n",
       "    .dataframe tbody tr th {\n",
       "        vertical-align: top;\n",
       "    }\n",
       "\n",
       "    .dataframe thead th {\n",
       "        text-align: right;\n",
       "    }\n",
       "</style>\n",
       "<table border=\"1\" class=\"dataframe\">\n",
       "  <thead>\n",
       "    <tr style=\"text-align: right;\">\n",
       "      <th></th>\n",
       "      <th>major</th>\n",
       "      <th>count</th>\n",
       "    </tr>\n",
       "  </thead>\n",
       "  <tbody>\n",
       "    <tr>\n",
       "      <th>1</th>\n",
       "      <td>True</td>\n",
       "      <td>109</td>\n",
       "    </tr>\n",
       "    <tr>\n",
       "      <th>0</th>\n",
       "      <td>False</td>\n",
       "      <td>263</td>\n",
       "    </tr>\n",
       "  </tbody>\n",
       "</table>\n",
       "</div>"
      ],
      "text/plain": [
       "   major  count\n",
       "1   True    109\n",
       "0  False    263"
      ]
     },
     "metadata": {},
     "output_type": "display_data"
    },
    {
     "data": {
      "image/png": "[encoded data removed]",
      "text/plain": [
       "<Figure size 216x216 with 1 Axes>"
      ]
     },
     "metadata": {},
     "output_type": "display_data"
    }
   ],
   "source": [
    "# Count number of majors vs. non-majors\n",
    "major_count = (grades.groupby('major').apply(lambda df: len(df.id.unique()))\n",
    "               .to_frame(name='count')\n",
    "               .reset_index()\n",
    "               .sort_values(by='major', ascending=False))\n",
    "\n",
    "display(major_count)\n",
    "\n",
    "plt.figure(figsize=(3, 3))\n",
    "sns.barplot(data=major_count, x='major', y='count', order=[True, False])\n",
    "plt.title('Count of students by math major status')\n",
    "plt.show()"
   ]
  },
  {
   "cell_type": "code",
   "execution_count": 59,
   "metadata": {},
   "outputs": [
    {
     "data": {
      "image/png": "[encoded data removed]",
      "text/plain": [
       "<Figure size 576x288 with 1 Axes>"
      ]
     },
     "metadata": {},
     "output_type": "display_data"
    }
   ],
   "source": [
    "# Letter grade by major vs. non-major as percentage of grades from the \n",
    "# corresponding category\n",
    "(grades\n",
    " .drop(grades.loc[grades.grade == 'P'].index)\n",
    " .pivot_table('id', 'major', 'grade', aggfunc=len)\n",
    " .sort_index(ascending=False)\n",
    " .reindex(columns=uc.grade_rank, fill_value=0.0)\n",
    " .apply(lambda srs: srs / sum(srs) * 100, axis=1)).T.plot.bar(figsize=(8, 4),\n",
    "                                                              width=0.6)\n",
    "plt.title('Letter grade by math major status for all courses')\n",
    "plt.xticks(rotation=0)\n",
    "plt.ylabel('Percent')\n",
    "plt.xlabel('Letter Grade')\n",
    "plt.show()"
   ]
  },
  {
   "cell_type": "code",
   "execution_count": 142,
   "metadata": {},
   "outputs": [
    {
     "data": {
      "image/png": "[encoded data removed]",
      "text/plain": [
       "<Figure size 576x288 with 1 Axes>"
      ]
     },
     "metadata": {},
     "output_type": "display_data"
    }
   ],
   "source": [
    "# Letter grade by major vs. non-major as percentage of grades from the \n",
    "# corresponding category\n",
    "(grades\n",
    " .drop(grades.loc[(grades.grade == 'P') | (grades.course != 'MTH-199')].index)\n",
    " .pivot_table('id', 'major', 'grade', aggfunc=len)\n",
    " .fillna(0)\n",
    " .sort_index(ascending=False)\n",
    " .reindex(columns=uc.grade_rank, fill_value=0.0)\n",
    " .apply(lambda srs: srs / sum(srs) * 100, axis=1)).T.plot.bar(figsize=(8, 4),\n",
    "                                                              width=0.6)\n",
    "plt.title('Letter grade by math major status for MTH-199')\n",
    "plt.xticks(rotation=0)\n",
    "plt.ylabel('Percent')\n",
    "plt.xlabel('Letter Grade')\n",
    "plt.show()"
   ]
  },
  {
   "cell_type": "code",
   "execution_count": null,
   "metadata": {},
   "outputs": [],
   "source": []
  }
 ],
 "metadata": {
  "kernelspec": {
   "display_name": "Python 3",
   "language": "python",
   "name": "python3"
  },
  "language_info": {
   "codemirror_mode": {
    "name": "ipython",
    "version": 3
   },
   "file_extension": ".py",
   "mimetype": "text/x-python",
   "name": "python",
   "nbconvert_exporter": "python",
   "pygments_lexer": "ipython3",
   "version": "3.6.3"
  },
  "varInspector": {
   "cols": {
    "lenName": 16,
    "lenType": 16,
    "lenVar": 40
   },
   "kernels_config": {
    "python": {
     "delete_cmd_postfix": "",
     "delete_cmd_prefix": "del ",
     "library": "var_list.py",
     "varRefreshCmd": "print(var_dic_list())"
    },
    "r": {
     "delete_cmd_postfix": ") ",
     "delete_cmd_prefix": "rm(",
     "library": "var_list.r",
     "varRefreshCmd": "cat(var_dic_list()) "
    }
   },
   "types_to_exclude": [
    "module",
    "function",
    "builtin_function_or_method",
    "instance",
    "_Feature"
   ],
   "window_display": false
  }
 },
 "nbformat": 4,
 "nbformat_minor": 2
}
