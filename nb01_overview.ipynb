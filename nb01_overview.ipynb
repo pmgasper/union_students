{
 "cells": [
  {
   "cell_type": "markdown",
   "metadata": {},
   "source": [
    "# Analysis of Student Data for Union College Math Majors"
   ]
  },
  {
   "cell_type": "markdown",
   "metadata": {},
   "source": [
    "## Part 1 - Project overview\n",
    "\n",
    "These notebooks contain my code and results for an ongoing consultation project with Union College. The data consist of letter grade by course matched with student information (i.e. class year) for mathematics majors who graduated between the 13-14 and 17-18 academic years. The aim is to automate data visualization and identify potentially interesting trends, with a particular interest in identifying insights that might suggest improvements to the student experience.\n",
    "\n",
    "The project is divided into a series of Juypter notebooks:\n",
    "1. [Project Overview](nb01_overview.ipynb)\n",
    "2. [Data Cleaning](nb02_cleaning.ipynb)\n",
    "3. [Descriptive Statistics](nb03_descriptive_stats.ipynb)\n",
    "4. [Inferential Statistics](nb04_hypothesis_testing.ipynb)\n",
    "5. [Geographic Maps - Data Cleaning](nb05a_map_data.ipynb)<br>\n",
    "   [Geographic Maps - Display](nb05b_map_display.ipynb)\n",
    "\n",
    "Additional files:\n",
    "* [Constants](union_constants.py) used throughout project \n",
    "* Raw data is stored locally"
   ]
  }
 ],
 "metadata": {
  "kernelspec": {
   "display_name": "Python 3",
   "language": "python",
   "name": "python3"
  },
  "language_info": {
   "codemirror_mode": {
    "name": "ipython",
    "version": 3
   },
   "file_extension": ".py",
   "mimetype": "text/x-python",
   "name": "python",
   "nbconvert_exporter": "python",
   "pygments_lexer": "ipython3",
   "version": "3.6.3"
  },
  "varInspector": {
   "cols": {
    "lenName": 16,
    "lenType": 16,
    "lenVar": 40
   },
   "kernels_config": {
    "python": {
     "delete_cmd_postfix": "",
     "delete_cmd_prefix": "del ",
     "library": "var_list.py",
     "varRefreshCmd": "print(var_dic_list())"
    },
    "r": {
     "delete_cmd_postfix": ") ",
     "delete_cmd_prefix": "rm(",
     "library": "var_list.r",
     "varRefreshCmd": "cat(var_dic_list()) "
    }
   },
   "types_to_exclude": [
    "module",
    "function",
    "builtin_function_or_method",
    "instance",
    "_Feature"
   ],
   "window_display": false
  }
 },
 "nbformat": 4,
 "nbformat_minor": 2
}
